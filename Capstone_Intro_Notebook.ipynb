{
    "cells": [
        {
            "cell_type": "markdown", 
            "source": "## Capstone Project Notebook", 
            "metadata": {
                "collapsed": true
            }
        }, 
        {
            "cell_type": "code", 
            "execution_count": 1, 
            "source": "import pandas as pd\nimport numpy as np", 
            "metadata": {}, 
            "outputs": []
        }, 
        {
            "cell_type": "code", 
            "execution_count": null, 
            "source": "# The code was removed by Watson Studio for sharing.", 
            "metadata": {}, 
            "outputs": []
        }, 
        {
            "cell_type": "code", 
            "execution_count": 2, 
            "source": "print('Hello Capstone Project Course')", 
            "metadata": {}, 
            "outputs": [
                {
                    "text": "Hello Capstone Project Course\n", 
                    "output_type": "stream", 
                    "name": "stdout"
                }
            ]
        }, 
        {
            "cell_type": "code", 
            "execution_count": null, 
            "source": "", 
            "metadata": {}, 
            "outputs": []
        }
    ], 
    "nbformat_minor": 1, 
    "nbformat": 4, 
    "metadata": {
        "kernelspec": {
            "language": "python", 
            "display_name": "Python 3.5", 
            "name": "python3"
        }, 
        "language_info": {
            "file_extension": ".py", 
            "version": "3.5.5", 
            "mimetype": "text/x-python", 
            "nbconvert_exporter": "python", 
            "name": "python", 
            "pygments_lexer": "ipython3", 
            "codemirror_mode": {
                "version": 3, 
                "name": "ipython"
            }
        }
    }
}