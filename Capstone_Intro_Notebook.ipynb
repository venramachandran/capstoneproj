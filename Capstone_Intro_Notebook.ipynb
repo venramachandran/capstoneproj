{
    "nbformat_minor": 1, 
    "metadata": {
        "language_info": {
            "pygments_lexer": "ipython3", 
            "name": "python", 
            "file_extension": ".py", 
            "nbconvert_exporter": "python", 
            "mimetype": "text/x-python", 
            "codemirror_mode": {
                "name": "ipython", 
                "version": 3
            }, 
            "version": "3.5.5"
        }, 
        "kernelspec": {
            "language": "python", 
            "name": "python3", 
            "display_name": "Python 3.5"
        }
    }, 
    "nbformat": 4, 
    "cells": [
        {
            "source": "## Capstone Project Notebook", 
            "metadata": {
                "collapsed": true
            }, 
            "cell_type": "markdown"
        }, 
        {
            "execution_count": 2, 
            "metadata": {}, 
            "source": "1+1", 
            "outputs": [
                {
                    "execution_count": 2, 
                    "metadata": {}, 
                    "data": {
                        "text/plain": "2"
                    }, 
                    "output_type": "execute_result"
                }
            ], 
            "cell_type": "code"
        }, 
        {
            "execution_count": null, 
            "metadata": {}, 
            "source": "# The code was removed by Watson Studio for sharing.", 
            "outputs": [], 
            "cell_type": "code"
        }
    ]
}